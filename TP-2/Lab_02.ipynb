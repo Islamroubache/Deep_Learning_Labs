{
 "cells": [
  {
   "cell_type": "markdown",
   "id": "82c82b85-d61f-40a6-b1d4-8b700335f1d1",
   "metadata": {},
   "source": [
    "# Training Neutral Networks from scratch."
   ]
  },
  {
   "cell_type": "markdown",
   "id": "a47c45de-1cdf-4f25-be81-480504fb0f22",
   "metadata": {},
   "source": [
    "- Full Name : ROUBACHE Islam.\n",
    "- Group : 03."
   ]
  },
  {
   "cell_type": "markdown",
   "id": "35687727-c397-4d71-85cd-9cbd29ae29a7",
   "metadata": {},
   "source": [
    "## Necessary Packages"
   ]
  },
  {
   "cell_type": "code",
   "execution_count": 1,
   "id": "0c3855da-3bfa-4380-bc2a-49d02729a4bb",
   "metadata": {},
   "outputs": [],
   "source": [
    "import numpy as np\n",
    "import seaborn as sns\n",
    "import matplotlib.pyplot as plt\n",
    "import pandas as pd\n",
    "import os\n",
    "from tqdm.notebook import trange\n",
    "from sklearn.metrics import confusion_matrix,accuracy_score,precision_score,recall_score,f1_score\n",
    "from sklearn.model_selection import train_test_split"
   ]
  },
  {
   "cell_type": "markdown",
   "id": "d6ee7593-8b4a-4f26-9550-1620487152f1",
   "metadata": {},
   "source": [
    "## Utitlities"
   ]
  },
  {
   "cell_type": "code",
   "execution_count": 2,
   "id": "809bd3ee-571e-4d4a-8e87-1a4750d4ca74",
   "metadata": {},
   "outputs": [],
   "source": [
    "def get_dataset(m, n):\n",
    "    X = np.random.normal(loc=0,scale=10, size=(m, n))\n",
    "    Y = np.sum(X, axis=1)\n",
    "    Y = 0 * (Y < -10) + 1 * ((Y >= -10) & (Y <= 10)) + 2 * (Y >= 10)\n",
    "    return X,Y"
   ]
  },
  {
   "cell_type": "code",
   "execution_count": 3,
   "id": "d4853581-1046-4eb1-bd27-5d0b81f13d46",
   "metadata": {},
   "outputs": [],
   "source": [
    "def one_hot(a):\n",
    "    b = np.zeros((a.size, a.max() + 1))\n",
    "    b[np.arange(a.size), a] = 1\n",
    "    return b"
   ]
  },
  {
   "cell_type": "markdown",
   "id": "0df60c88-ab10-4fcc-b7da-76ee7be22217",
   "metadata": {},
   "source": [
    "## Implementation"
   ]
  },
  {
   "cell_type": "markdown",
   "id": "fc98cf8f-46e1-43e1-bc05-469de4546d84",
   "metadata": {},
   "source": [
    "### Initialization"
   ]
  },
  {
   "cell_type": "code",
   "execution_count": 4,
   "id": "851da2d6-d508-48fe-84dc-c53c33127439",
   "metadata": {},
   "outputs": [],
   "source": [
    "def init_params(nx,nh,ny):\n",
    "    W1 = np.random.normal(loc=0, scale=0.3, size=(nh,nx+1))\n",
    "    W2 = np.random.normal(loc=0, scale=0.3, size=(ny,nh+1))\n",
    "    return [W1,W2]"
   ]
  },
  {
   "cell_type": "markdown",
   "id": "79674745-d31a-402b-a693-2e6bf4f5e1b3",
   "metadata": {},
   "source": [
    "### Forward propagation"
   ]
  },
  {
   "cell_type": "code",
   "execution_count": 5,
   "id": "7497e235-c471-4b4d-95f6-bf80ee130085",
   "metadata": {},
   "outputs": [],
   "source": [
    "def tanh(z):\n",
    "    exp_z = np.exp(z)\n",
    "    exp__z = np.exp(-2 * z)\n",
    "    return (exp_z - exp__z) / (exp_z + exp__z)"
   ]
  },
  {
   "cell_type": "code",
   "execution_count": 6,
   "id": "64d32a7b-f458-4a19-813c-5e2f1e5276e5",
   "metadata": {},
   "outputs": [],
   "source": [
    "def sigmoid(z):\n",
    "    return 1 / (1 + np.exp(-z))"
   ]
  },
  {
   "cell_type": "code",
   "execution_count": 7,
   "id": "923b072e-8a82-4c6b-ba42-0059ab4ee292",
   "metadata": {},
   "outputs": [],
   "source": [
    "def softmax(z):\n",
    "    t = np.exp(z - z.max(axis=0, keepdims=True)) # for numerical stability\n",
    "    return t / np.sum(t, axis=0, keepdims=True)"
   ]
  },
  {
   "cell_type": "code",
   "execution_count": 8,
   "id": "a3d55693-8918-4a1d-a262-228d880824d5",
   "metadata": {},
   "outputs": [],
   "source": [
    "def forward(params, X, activations):\n",
    "\n",
    "    Y = X.T\n",
    "    outputs = []\n",
    "\n",
    "    for W, activation in zip(params, activations):\n",
    "        Y = np.vstack([np.ones(Y.shape[1]), Y])\n",
    "        Z = W @ Y\n",
    "        Y =  activation(Z)\n",
    "        outputs.append([Z,Y])\n",
    "\n",
    "    return outputs"
   ]
  },
  {
   "cell_type": "markdown",
   "id": "e6ef937e-7b52-4a28-8e9e-b81f70d0eaf3",
   "metadata": {},
   "source": [
    "### Loss & Accuracy"
   ]
  },
  {
   "cell_type": "code",
   "execution_count": 9,
   "id": "0efd83ea-484d-45e6-bf5c-b3ebdad46493",
   "metadata": {},
   "outputs": [],
   "source": [
    "def loss_accuracy(y_hat, y):\n",
    "    loss = -np.mean(np.log(np.sum(y_hat * y, axis=1)))\n",
    "    accuracy = np.mean(np.argmax(y_hat, axis=1) == np.argmax(y, axis=1))\n",
    "    return loss,accuracy"
   ]
  },
  {
   "cell_type": "markdown",
   "id": "99c4430b-4ff2-44cf-9603-48ef30ec815d",
   "metadata": {},
   "source": [
    "### Backward propagation"
   ]
  },
  {
   "cell_type": "code",
   "execution_count": 10,
   "id": "ae717d0e-5a64-4358-874b-1dab60486378",
   "metadata": {},
   "outputs": [],
   "source": [
    "def backward(X, params, outputs, Y):\n",
    "\n",
    "    # add a new line to all the outputs\n",
    "    outputs[-2][1] = np.vstack([np.ones(outputs[-2][1].shape[1]),outputs[-2][1]]) # dA\n",
    "    X = np.vstack([np.ones(X.shape[0]),X.T])\n",
    "\n",
    "    # compute the gradients\n",
    "    gradients = {}\n",
    "\n",
    "    gradients[\"dZ2\"] = outputs[-1][1] - Y.T # (ny,m) - (ny,m) = (ny,m)\n",
    "    gradients[\"dW2\"] = gradients[\"dZ2\"] @ outputs[-2][1].T # (ny,m) * (m,nh+1) = (ny,nh+1)\n",
    "\n",
    "    t = tanh(outputs[-2][0]) # (nh,m)\n",
    "    gradients[\"dZ1\"] = (params[-1].T[1:] @ gradients[\"dZ2\"]) * (1 - t ** 2) # (nh,ny) @ (ny,m) * (nh,m) = (nh,m)\n",
    "\n",
    "    # print(gradients[\"dZ1\"].shape,X.shape)\n",
    "    gradients[\"dW1\"] = gradients[\"dZ1\"] @ X.T # (nh,m) @ (m,nx+1) = (nh,nx+1)\n",
    "\n",
    "    return gradients"
   ]
  },
  {
   "cell_type": "markdown",
   "id": "4740799b-72b3-4536-bfe7-b92e1ac877e6",
   "metadata": {},
   "source": [
    "### Gradient Descent"
   ]
  },
  {
   "cell_type": "code",
   "execution_count": 11,
   "id": "7200a143-9381-4ea7-8248-d0d5453bde9e",
   "metadata": {},
   "outputs": [],
   "source": [
    "def sgd(params, grads, eta):\n",
    "    params[0] = params[0] - eta * grads[\"dW1\"]\n",
    "    params[1] = params[1] - eta * grads[\"dW2\"]"
   ]
  },
  {
   "cell_type": "markdown",
   "id": "608e53a6-11aa-437d-b3c4-83b399c8cea6",
   "metadata": {},
   "source": [
    "### predict"
   ]
  },
  {
   "cell_type": "code",
   "execution_count": 12,
   "id": "cfbc9d07-2686-45bb-bc9e-1bcc6d01a42c",
   "metadata": {},
   "outputs": [],
   "source": [
    "def predict(params, X):\n",
    "    outputs = forward(params, X, [tanh,softmax])\n",
    "    y_hat = outputs[-1][-1]\n",
    "    y_hat = np.argmax(y_hat, axis=0)\n",
    "    return y_hat"
   ]
  },
  {
   "cell_type": "markdown",
   "id": "068f63e0-843d-475b-bb4c-5eefdaca9bce",
   "metadata": {},
   "source": [
    "### Train"
   ]
  },
  {
   "cell_type": "code",
   "execution_count": 13,
   "id": "ec378230-dabc-4929-9a36-56c5237a4e5b",
   "metadata": {},
   "outputs": [],
   "source": [
    "def add_eps(params, eps=10e-4):\n",
    "    result = []\n",
    "\n",
    "    for param in params:\n",
    "        result.append(param + eps)\n",
    "\n",
    "    return result"
   ]
  },
  {
   "cell_type": "code",
   "execution_count": 14,
   "id": "3b3b23fd-2f46-4862-ad0d-2e835c211d5d",
   "metadata": {},
   "outputs": [],
   "source": [
    "def train(X, Y, test_set=None,eta=0.01, epochs=50, batch_size=128, nh=32):\n",
    "    \n",
    "    m,n = X.shape\n",
    "\n",
    "    ny = len(np.unique(Y))\n",
    "\n",
    "    Y = one_hot(Y)\n",
    "\n",
    "    if test_set is not None:\n",
    "        test_set = (test_set[0], one_hot(test_set[1]))\n",
    "\n",
    "    params = init_params(n,nh,ny)\n",
    "\n",
    "    history = {\n",
    "        \"accuracy\": [],\n",
    "        \"loss\":[],\n",
    "        \"test loss\":[],\n",
    "        \"test accuracy\":[]\n",
    "    }\n",
    "\n",
    "    real_grads = []\n",
    "    approx_grads = []\n",
    "\n",
    "    for j in range(epochs):\n",
    "\n",
    "        # randomize the data\n",
    "        idx = np.arange(m)\n",
    "        np.random.shuffle(idx)\n",
    "        X = X[idx]\n",
    "        Y = Y[idx]\n",
    "\n",
    "        # calculate the numpber of batches\n",
    "        batches_count = int(np.floor(m / batch_size))\n",
    "\n",
    "        t = trange(batches_count, desc='Bar desc', leave=True)\n",
    "        \n",
    "        for i in t:\n",
    "            \n",
    "            X_batch = X[i * batch_size:(i+1) * batch_size,:]\n",
    "            Y_batch = Y[i * batch_size:(i+1) * batch_size,:]\n",
    "\n",
    "            outputs = forward(params, X_batch, [tanh, softmax])\n",
    "            grads = backward(X_batch, params, outputs, Y_batch)\n",
    "\n",
    "            outputs_p_eps = forward(add_eps(params, 10e-4), X_batch, [tanh, softmax])[-1][-1]\n",
    "            outputs_m_eps = forward(add_eps(params, -10e-4), X_batch, [tanh, softmax])[-1][-1]\n",
    "\n",
    "            approx_grad = (outputs_m_eps-outputs_p_eps) / (2 * 10e-4)\n",
    "\n",
    "            real_grads.append(grads)\n",
    "            approx_grads.append(approx_grad)\n",
    "            \n",
    "            sgd(params, grads,eta=eta)\n",
    "\n",
    "            if i % 50 == 0:\n",
    "                Y_hat = outputs[-1][1].T\n",
    "                loss, accuracy = loss_accuracy(Y_hat, Y_batch)\n",
    "\n",
    "                msg = f\"epoch = {j+1} | loss = {loss:.6f} | accuracy = {100 * accuracy:.2f}%\"\n",
    "                test_loss,test_accuracy = None,None\n",
    "\n",
    "                if test_set is not None:\n",
    "                    X_test,y_test = test_set\n",
    "                    y_test_hat = forward(params, X_test, [tanh, softmax])[-1][1].T\n",
    "                    test_loss, test_accuracy = loss_accuracy(y_test, y_test_hat)\n",
    "                    msg += f\" | test loss = {test_loss:.6f} | test accuracy = {100 * test_accuracy:.2f}%\"\n",
    "    \n",
    "                if i % 50 == 0:\n",
    "                    t.set_description(msg)\n",
    "                    t.refresh()\n",
    "    \n",
    "                history[\"loss\"].append(loss)\n",
    "                history[\"accuracy\"].append(accuracy)\n",
    "        \n",
    "                if test_set is not None:\n",
    "                    history[\"test loss\"].append(test_loss)\n",
    "                    history[\"test accuracy\"].append(test_accuracy)\n",
    "\n",
    "    return params,history,real_grads,approx_grads"
   ]
  },
  {
   "cell_type": "markdown",
   "id": "48dfb1f7-3c7d-4e77-8f04-77aed4bd68e3",
   "metadata": {},
   "source": [
    "## Test on a random dataset"
   ]
  },
  {
   "cell_type": "code",
   "execution_count": 15,
   "id": "70cff079-658b-4b4b-baf9-66529daf5697",
   "metadata": {},
   "outputs": [],
   "source": [
    "X, Y = get_dataset(1000, 2)"
   ]
  },
  {
   "cell_type": "code",
   "execution_count": 16,
   "id": "f36ab5fd-9bfc-44b5-a8f6-57b19df19ed5",
   "metadata": {},
   "outputs": [
    {
     "data": {
      "text/plain": [
       "<Axes: >"
      ]
     },
     "execution_count": 16,
     "metadata": {},
     "output_type": "execute_result"
    },
    {
     "data": {
      "image/png": "[encoded data removed]",
      "text/plain": [
       "<Figure size 640x480 with 1 Axes>"
      ]
     },
     "metadata": {},
     "output_type": "display_data"
    }
   ],
   "source": [
    "sns.scatterplot(x=X[:,0],y=X[:,1],hue=Y)"
   ]
  },
  {
   "cell_type": "code",
   "execution_count": 17,
   "id": "7ba5244a-4a32-4854-a4ef-f183ed87efc3",
   "metadata": {},
   "outputs": [
    {
     "data": {
      "application/vnd.jupyter.widget-view+json": {
       "model_id": "81e4c0a03988443aba7524ad17e7f40f",
       "version_major": 2,
       "version_minor": 0
      },
      "text/plain": [
       "Bar desc:   0%|          | 0/15 [00:00<?, ?it/s]"
      ]
     },
     "metadata": {},
     "output_type": "display_data"
    },
    {
     "data": {
      "application/vnd.jupyter.widget-view+json": {
       "model_id": "6cabbbc6670e49daa66f5e9d7616e785",
       "version_major": 2,
       "version_minor": 0
      },
      "text/plain": [
       "Bar desc:   0%|          | 0/15 [00:00<?, ?it/s]"
      ]
     },
     "metadata": {},
     "output_type": "display_data"
    },
    {
     "data": {
      "application/vnd.jupyter.widget-view+json": {
       "model_id": "52b746a1d43940e487e84dce223c13ca",
       "version_major": 2,
       "version_minor": 0
      },
      "text/plain": [
       "Bar desc:   0%|          | 0/15 [00:00<?, ?it/s]"
      ]
     },
     "metadata": {},
     "output_type": "display_data"
    },
    {
     "data": {
      "application/vnd.jupyter.widget-view+json": {
       "model_id": "9b951f313481490aa857f4b0dd680890",
       "version_major": 2,
       "version_minor": 0
      },
      "text/plain": [
       "Bar desc:   0%|          | 0/15 [00:00<?, ?it/s]"
      ]
     },
     "metadata": {},
     "output_type": "display_data"
    },
    {
     "data": {
      "application/vnd.jupyter.widget-view+json": {
       "model_id": "7391027ab89e4ebe99bd181a2b55045f",
       "version_major": 2,
       "version_minor": 0
      },
      "text/plain": [
       "Bar desc:   0%|          | 0/15 [00:00<?, ?it/s]"
      ]
     },
     "metadata": {},
     "output_type": "display_data"
    },
    {
     "data": {
      "application/vnd.jupyter.widget-view+json": {
       "model_id": "8e0a39f4a95c4aebb2038d707f5f1285",
       "version_major": 2,
       "version_minor": 0
      },
      "text/plain": [
       "Bar desc:   0%|          | 0/15 [00:00<?, ?it/s]"
      ]
     },
     "metadata": {},
     "output_type": "display_data"
    },
    {
     "data": {
      "application/vnd.jupyter.widget-view+json": {
       "model_id": "d358654fcb9d4e68b88229de8d9dffc8",
       "version_major": 2,
       "version_minor": 0
      },
      "text/plain": [
       "Bar desc:   0%|          | 0/15 [00:00<?, ?it/s]"
      ]
     },
     "metadata": {},
     "output_type": "display_data"
    },
    {
     "data": {
      "application/vnd.jupyter.widget-view+json": {
       "model_id": "5f44675a57754c2992d26d9c38e99ff4",
       "version_major": 2,
       "version_minor": 0
      },
      "text/plain": [
       "Bar desc:   0%|          | 0/15 [00:00<?, ?it/s]"
      ]
     },
     "metadata": {},
     "output_type": "display_data"
    },
    {
     "data": {
      "application/vnd.jupyter.widget-view+json": {
       "model_id": "f01086e1c47b4456839e8999128eaf48",
       "version_major": 2,
       "version_minor": 0
      },
      "text/plain": [
       "Bar desc:   0%|          | 0/15 [00:00<?, ?it/s]"
      ]
     },
     "metadata": {},
     "output_type": "display_data"
    },
    {
     "data": {
      "application/vnd.jupyter.widget-view+json": {
       "model_id": "bae08313e8bf4380b02fa4f6e39c1329",
       "version_major": 2,
       "version_minor": 0
      },
      "text/plain": [
       "Bar desc:   0%|          | 0/15 [00:00<?, ?it/s]"
      ]
     },
     "metadata": {},
     "output_type": "display_data"
    },
    {
     "data": {
      "application/vnd.jupyter.widget-view+json": {
       "model_id": "cd918fd4a6044d7db54ab67362fb6779",
       "version_major": 2,
       "version_minor": 0
      },
      "text/plain": [
       "Bar desc:   0%|          | 0/15 [00:00<?, ?it/s]"
      ]
     },
     "metadata": {},
     "output_type": "display_data"
    },
    {
     "data": {
      "application/vnd.jupyter.widget-view+json": {
       "model_id": "8ebbe8e13d79437a8e2698aff0216d59",
       "version_major": 2,
       "version_minor": 0
      },
      "text/plain": [
       "Bar desc:   0%|          | 0/15 [00:00<?, ?it/s]"
      ]
     },
     "metadata": {},
     "output_type": "display_data"
    },
    {
     "data": {
      "application/vnd.jupyter.widget-view+json": {
       "model_id": "d6aca4426aea434b99a7577f8a904087",
       "version_major": 2,
       "version_minor": 0
      },
      "text/plain": [
       "Bar desc:   0%|          | 0/15 [00:00<?, ?it/s]"
      ]
     },
     "metadata": {},
     "output_type": "display_data"
    },
    {
     "data": {
      "application/vnd.jupyter.widget-view+json": {
       "model_id": "921bbfba24dc404fabed389cbf07ef4a",
       "version_major": 2,
       "version_minor": 0
      },
      "text/plain": [
       "Bar desc:   0%|          | 0/15 [00:00<?, ?it/s]"
      ]
     },
     "metadata": {},
     "output_type": "display_data"
    },
    {
     "data": {
      "application/vnd.jupyter.widget-view+json": {
       "model_id": "7e7abe5ee45a47098704501272312351",
       "version_major": 2,
       "version_minor": 0
      },
      "text/plain": [
       "Bar desc:   0%|          | 0/15 [00:00<?, ?it/s]"
      ]
     },
     "metadata": {},
     "output_type": "display_data"
    },
    {
     "data": {
      "application/vnd.jupyter.widget-view+json": {
       "model_id": "fa004dda1a4f44c4a1d05d5a6df9b193",
       "version_major": 2,
       "version_minor": 0
      },
      "text/plain": [
       "Bar desc:   0%|          | 0/15 [00:00<?, ?it/s]"
      ]
     },
     "metadata": {},
     "output_type": "display_data"
    },
    {
     "data": {
      "application/vnd.jupyter.widget-view+json": {
       "model_id": "b66512b8b8d04a92bfe88488c916efd1",
       "version_major": 2,
       "version_minor": 0
      },
      "text/plain": [
       "Bar desc:   0%|          | 0/15 [00:00<?, ?it/s]"
      ]
     },
     "metadata": {},
     "output_type": "display_data"
    },
    {
     "data": {
      "application/vnd.jupyter.widget-view+json": {
       "model_id": "ca2d05ccc5e841dfbb842fed5d0c3e86",
       "version_major": 2,
       "version_minor": 0
      },
      "text/plain": [
       "Bar desc:   0%|          | 0/15 [00:00<?, ?it/s]"
      ]
     },
     "metadata": {},
     "output_type": "display_data"
    },
    {
     "data": {
      "application/vnd.jupyter.widget-view+json": {
       "model_id": "2c145d3f087842b79ec6bb5335989d06",
       "version_major": 2,
       "version_minor": 0
      },
      "text/plain": [
       "Bar desc:   0%|          | 0/15 [00:00<?, ?it/s]"
      ]
     },
     "metadata": {},
     "output_type": "display_data"
    },
    {
     "data": {
      "application/vnd.jupyter.widget-view+json": {
       "model_id": "42e825a184e7402d89111ecd72a6f99b",
       "version_major": 2,
       "version_minor": 0
      },
      "text/plain": [
       "Bar desc:   0%|          | 0/15 [00:00<?, ?it/s]"
      ]
     },
     "metadata": {},
     "output_type": "display_data"
    },
    {
     "data": {
      "application/vnd.jupyter.widget-view+json": {
       "model_id": "cf785b85993f4d3c96a8e5cc7bdcd65d",
       "version_major": 2,
       "version_minor": 0
      },
      "text/plain": [
       "Bar desc:   0%|          | 0/15 [00:00<?, ?it/s]"
      ]
     },
     "metadata": {},
     "output_type": "display_data"
    },
    {
     "data": {
      "application/vnd.jupyter.widget-view+json": {
       "model_id": "867c2d1f93614dd48f4723fb72e27246",
       "version_major": 2,
       "version_minor": 0
      },
      "text/plain": [
       "Bar desc:   0%|          | 0/15 [00:00<?, ?it/s]"
      ]
     },
     "metadata": {},
     "output_type": "display_data"
    },
    {
     "data": {
      "application/vnd.jupyter.widget-view+json": {
       "model_id": "fc31e7219a65463fa34402ae5372182f",
       "version_major": 2,
       "version_minor": 0
      },
      "text/plain": [
       "Bar desc:   0%|          | 0/15 [00:00<?, ?it/s]"
      ]
     },
     "metadata": {},
     "output_type": "display_data"
    },
    {
     "data": {
      "application/vnd.jupyter.widget-view+json": {
       "model_id": "2925eaa5683c427ea1cb7f9eacc05bc1",
       "version_major": 2,
       "version_minor": 0
      },
      "text/plain": [
       "Bar desc:   0%|          | 0/15 [00:00<?, ?it/s]"
      ]
     },
     "metadata": {},
     "output_type": "display_data"
    },
    {
     "data": {
      "application/vnd.jupyter.widget-view+json": {
       "model_id": "9318df4736324820adc8b155f4b7792b",
       "version_major": 2,
       "version_minor": 0
      },
      "text/plain": [
       "Bar desc:   0%|          | 0/15 [00:00<?, ?it/s]"
      ]
     },
     "metadata": {},
     "output_type": "display_data"
    },
    {
     "data": {
      "application/vnd.jupyter.widget-view+json": {
       "model_id": "016a1a22b0124d7db09098ff6ed5147d",
       "version_major": 2,
       "version_minor": 0
      },
      "text/plain": [
       "Bar desc:   0%|          | 0/15 [00:00<?, ?it/s]"
      ]
     },
     "metadata": {},
     "output_type": "display_data"
    },
    {
     "data": {
      "application/vnd.jupyter.widget-view+json": {
       "model_id": "6164ddf8cc154e8b84c0f503e13ff1b8",
       "version_major": 2,
       "version_minor": 0
      },
      "text/plain": [
       "Bar desc:   0%|          | 0/15 [00:00<?, ?it/s]"
      ]
     },
     "metadata": {},
     "output_type": "display_data"
    },
    {
     "data": {
      "application/vnd.jupyter.widget-view+json": {
       "model_id": "c429bee7e3c040c58e5daeb2f1163fff",
       "version_major": 2,
       "version_minor": 0
      },
      "text/plain": [
       "Bar desc:   0%|          | 0/15 [00:00<?, ?it/s]"
      ]
     },
     "metadata": {},
     "output_type": "display_data"
    },
    {
     "data": {
      "application/vnd.jupyter.widget-view+json": {
       "model_id": "7b3920ecb42e4ab9b8e720a5a9325bc8",
       "version_major": 2,
       "version_minor": 0
      },
      "text/plain": [
       "Bar desc:   0%|          | 0/15 [00:00<?, ?it/s]"
      ]
     },
     "metadata": {},
     "output_type": "display_data"
    },
    {
     "data": {
      "application/vnd.jupyter.widget-view+json": {
       "model_id": "c247eaec87e84c92a41f0c24d99dad31",
       "version_major": 2,
       "version_minor": 0
      },
      "text/plain": [
       "Bar desc:   0%|          | 0/15 [00:00<?, ?it/s]"
      ]
     },
     "metadata": {},
     "output_type": "display_data"
    },
    {
     "data": {
      "application/vnd.jupyter.widget-view+json": {
       "model_id": "eed79bd4ddb84882859e37e3a0b7ece9",
       "version_major": 2,
       "version_minor": 0
      },
      "text/plain": [
       "Bar desc:   0%|          | 0/15 [00:00<?, ?it/s]"
      ]
     },
     "metadata": {},
     "output_type": "display_data"
    },
    {
     "data": {
      "application/vnd.jupyter.widget-view+json": {
       "model_id": "c771ce5d54664cc797e00f6871f52695",
       "version_major": 2,
       "version_minor": 0
      },
      "text/plain": [
       "Bar desc:   0%|          | 0/15 [00:00<?, ?it/s]"
      ]
     },
     "metadata": {},
     "output_type": "display_data"
    },
    {
     "data": {
      "application/vnd.jupyter.widget-view+json": {
       "model_id": "ead65e5a432547438e75b391d03cfc56",
       "version_major": 2,
       "version_minor": 0
      },
      "text/plain": [
       "Bar desc:   0%|          | 0/15 [00:00<?, ?it/s]"
      ]
     },
     "metadata": {},
     "output_type": "display_data"
    },
    {
     "data": {
      "application/vnd.jupyter.widget-view+json": {
       "model_id": "34f75014c9d64794a0566fc78e65946f",
       "version_major": 2,
       "version_minor": 0
      },
      "text/plain": [
       "Bar desc:   0%|          | 0/15 [00:00<?, ?it/s]"
      ]
     },
     "metadata": {},
     "output_type": "display_data"
    },
    {
     "data": {
      "application/vnd.jupyter.widget-view+json": {
       "model_id": "9e541962b609494cb5a012cf09e6454e",
       "version_major": 2,
       "version_minor": 0
      },
      "text/plain": [
       "Bar desc:   0%|          | 0/15 [00:00<?, ?it/s]"
      ]
     },
     "metadata": {},
     "output_type": "display_data"
    },
    {
     "data": {
      "application/vnd.jupyter.widget-view+json": {
       "model_id": "c858bfeef9b34f339c0c29ca4a788112",
       "version_major": 2,
       "version_minor": 0
      },
      "text/plain": [
       "Bar desc:   0%|          | 0/15 [00:00<?, ?it/s]"
      ]
     },
     "metadata": {},
     "output_type": "display_data"
    },
    {
     "data": {
      "application/vnd.jupyter.widget-view+json": {
       "model_id": "4f03c6e689a142b5961311a4e49f42ae",
       "version_major": 2,
       "version_minor": 0
      },
      "text/plain": [
       "Bar desc:   0%|          | 0/15 [00:00<?, ?it/s]"
      ]
     },
     "metadata": {},
     "output_type": "display_data"
    },
    {
     "data": {
      "application/vnd.jupyter.widget-view+json": {
       "model_id": "cf6b2a87e1bb4858afc2e5d2493fb241",
       "version_major": 2,
       "version_minor": 0
      },
      "text/plain": [
       "Bar desc:   0%|          | 0/15 [00:00<?, ?it/s]"
      ]
     },
     "metadata": {},
     "output_type": "display_data"
    },
    {
     "data": {
      "application/vnd.jupyter.widget-view+json": {
       "model_id": "36a62c0a8ef14240be595e36746b1894",
       "version_major": 2,
       "version_minor": 0
      },
      "text/plain": [
       "Bar desc:   0%|          | 0/15 [00:00<?, ?it/s]"
      ]
     },
     "metadata": {},
     "output_type": "display_data"
    },
    {
     "data": {
      "application/vnd.jupyter.widget-view+json": {
       "model_id": "ca0ed099b3a245c1ba2f697fed818d4e",
       "version_major": 2,
       "version_minor": 0
      },
      "text/plain": [
       "Bar desc:   0%|          | 0/15 [00:00<?, ?it/s]"
      ]
     },
     "metadata": {},
     "output_type": "display_data"
    },
    {
     "data": {
      "application/vnd.jupyter.widget-view+json": {
       "model_id": "fdaa8058097a4c7ab5419a21a4fa99b6",
       "version_major": 2,
       "version_minor": 0
      },
      "text/plain": [
       "Bar desc:   0%|          | 0/15 [00:00<?, ?it/s]"
      ]
     },
     "metadata": {},
     "output_type": "display_data"
    },
    {
     "data": {
      "application/vnd.jupyter.widget-view+json": {
       "model_id": "9880fba2c19d4880bf78b31fc35ef18b",
       "version_major": 2,
       "version_minor": 0
      },
      "text/plain": [
       "Bar desc:   0%|          | 0/15 [00:00<?, ?it/s]"
      ]
     },
     "metadata": {},
     "output_type": "display_data"
    },
    {
     "data": {
      "application/vnd.jupyter.widget-view+json": {
       "model_id": "cd93c1e23ca748d982e71300b163ab58",
       "version_major": 2,
       "version_minor": 0
      },
      "text/plain": [
       "Bar desc:   0%|          | 0/15 [00:00<?, ?it/s]"
      ]
     },
     "metadata": {},
     "output_type": "display_data"
    },
    {
     "data": {
      "application/vnd.jupyter.widget-view+json": {
       "model_id": "c560a290bd544e54a57b4ecc3c976451",
       "version_major": 2,
       "version_minor": 0
      },
      "text/plain": [
       "Bar desc:   0%|          | 0/15 [00:00<?, ?it/s]"
      ]
     },
     "metadata": {},
     "output_type": "display_data"
    },
    {
     "data": {
      "application/vnd.jupyter.widget-view+json": {
       "model_id": "8349161685f64e38a303a17a6907efbb",
       "version_major": 2,
       "version_minor": 0
      },
      "text/plain": [
       "Bar desc:   0%|          | 0/15 [00:00<?, ?it/s]"
      ]
     },
     "metadata": {},
     "output_type": "display_data"
    },
    {
     "data": {
      "application/vnd.jupyter.widget-view+json": {
       "model_id": "6da11702509440c8a263a7ae5859f1ad",
       "version_major": 2,
       "version_minor": 0
      },
      "text/plain": [
       "Bar desc:   0%|          | 0/15 [00:00<?, ?it/s]"
      ]
     },
     "metadata": {},
     "output_type": "display_data"
    },
    {
     "data": {
      "application/vnd.jupyter.widget-view+json": {
       "model_id": "aa81528669e6485eacfb31ddfe17dd2a",
       "version_major": 2,
       "version_minor": 0
      },
      "text/plain": [
       "Bar desc:   0%|          | 0/15 [00:00<?, ?it/s]"
      ]
     },
     "metadata": {},
     "output_type": "display_data"
    },
    {
     "data": {
      "application/vnd.jupyter.widget-view+json": {
       "model_id": "af47d0566f5b49d1b12083b38b273d32",
       "version_major": 2,
       "version_minor": 0
      },
      "text/plain": [
       "Bar desc:   0%|          | 0/15 [00:00<?, ?it/s]"
      ]
     },
     "metadata": {},
     "output_type": "display_data"
    },
    {
     "data": {
      "application/vnd.jupyter.widget-view+json": {
       "model_id": "431fa0d970104aeba4cf6db3960e1a43",
       "version_major": 2,
       "version_minor": 0
      },
      "text/plain": [
       "Bar desc:   0%|          | 0/15 [00:00<?, ?it/s]"
      ]
     },
     "metadata": {},
     "output_type": "display_data"
    },
    {
     "data": {
      "application/vnd.jupyter.widget-view+json": {
       "model_id": "4fd093801b53451ab8728cf48ae4d566",
       "version_major": 2,
       "version_minor": 0
      },
      "text/plain": [
       "Bar desc:   0%|          | 0/15 [00:00<?, ?it/s]"
      ]
     },
     "metadata": {},
     "output_type": "display_data"
    },
    {
     "data": {
      "application/vnd.jupyter.widget-view+json": {
       "model_id": "1ca5f511f36d459c86c03508acbdb3c8",
       "version_major": 2,
       "version_minor": 0
      },
      "text/plain": [
       "Bar desc:   0%|          | 0/15 [00:00<?, ?it/s]"
      ]
     },
     "metadata": {},
     "output_type": "display_data"
    },
    {
     "data": {
      "application/vnd.jupyter.widget-view+json": {
       "model_id": "d35a627cc58e465ba14a8b7af0ab2323",
       "version_major": 2,
       "version_minor": 0
      },
      "text/plain": [
       "Bar desc:   0%|          | 0/15 [00:00<?, ?it/s]"
      ]
     },
     "metadata": {},
     "output_type": "display_data"
    },
    {
     "data": {
      "application/vnd.jupyter.widget-view+json": {
       "model_id": "1a834cc7826f460199ae659a51d25d9b",
       "version_major": 2,
       "version_minor": 0
      },
      "text/plain": [
       "Bar desc:   0%|          | 0/15 [00:00<?, ?it/s]"
      ]
     },
     "metadata": {},
     "output_type": "display_data"
    },
    {
     "data": {
      "application/vnd.jupyter.widget-view+json": {
       "model_id": "2cd94a30fd2942b2acc86b0db5849bbf",
       "version_major": 2,
       "version_minor": 0
      },
      "text/plain": [
       "Bar desc:   0%|          | 0/15 [00:00<?, ?it/s]"
      ]
     },
     "metadata": {},
     "output_type": "display_data"
    },
    {
     "data": {
      "application/vnd.jupyter.widget-view+json": {
       "model_id": "3bb2dbab845a4b4b8bce37b0ed0190ab",
       "version_major": 2,
       "version_minor": 0
      },
      "text/plain": [
       "Bar desc:   0%|          | 0/15 [00:00<?, ?it/s]"
      ]
     },
     "metadata": {},
     "output_type": "display_data"
    },
    {
     "data": {
      "application/vnd.jupyter.widget-view+json": {
       "model_id": "f97752ab81f54179bd30d02166f2377d",
       "version_major": 2,
       "version_minor": 0
      },
      "text/plain": [
       "Bar desc:   0%|          | 0/15 [00:00<?, ?it/s]"
      ]
     },
     "metadata": {},
     "output_type": "display_data"
    },
    {
     "data": {
      "application/vnd.jupyter.widget-view+json": {
       "model_id": "a34e74fd013b4220a334c6d7c6a41e4d",
       "version_major": 2,
       "version_minor": 0
      },
      "text/plain": [
       "Bar desc:   0%|          | 0/15 [00:00<?, ?it/s]"
      ]
     },
     "metadata": {},
     "output_type": "display_data"
    },
    {
     "data": {
      "application/vnd.jupyter.widget-view+json": {
       "model_id": "2e9530f26ef74add8f36595689fa0639",
       "version_major": 2,
       "version_minor": 0
      },
      "text/plain": [
       "Bar desc:   0%|          | 0/15 [00:00<?, ?it/s]"
      ]
     },
     "metadata": {},
     "output_type": "display_data"
    },
    {
     "data": {
      "application/vnd.jupyter.widget-view+json": {
       "model_id": "2a2829b5d9ba4033ad75da034fbb092a",
       "version_major": 2,
       "version_minor": 0
      },
      "text/plain": [
       "Bar desc:   0%|          | 0/15 [00:00<?, ?it/s]"
      ]
     },
     "metadata": {},
     "output_type": "display_data"
    },
    {
     "data": {
      "application/vnd.jupyter.widget-view+json": {
       "model_id": "18052378bee24316856d7717b1de4af4",
       "version_major": 2,
       "version_minor": 0
      },
      "text/plain": [
       "Bar desc:   0%|          | 0/15 [00:00<?, ?it/s]"
      ]
     },
     "metadata": {},
     "output_type": "display_data"
    },
    {
     "data": {
      "application/vnd.jupyter.widget-view+json": {
       "model_id": "c8dede7f1c5941a9beef273da7d3b3a9",
       "version_major": 2,
       "version_minor": 0
      },
      "text/plain": [
       "Bar desc:   0%|          | 0/15 [00:00<?, ?it/s]"
      ]
     },
     "metadata": {},
     "output_type": "display_data"
    },
    {
     "data": {
      "application/vnd.jupyter.widget-view+json": {
       "model_id": "2fe7f8867a3b428eb5970d8ba44e1e80",
       "version_major": 2,
       "version_minor": 0
      },
      "text/plain": [
       "Bar desc:   0%|          | 0/15 [00:00<?, ?it/s]"
      ]
     },
     "metadata": {},
     "output_type": "display_data"
    },
    {
     "data": {
      "application/vnd.jupyter.widget-view+json": {
       "model_id": "3e81fb9f163044cb8d8817e269ec1f36",
       "version_major": 2,
       "version_minor": 0
      },
      "text/plain": [
       "Bar desc:   0%|          | 0/15 [00:00<?, ?it/s]"
      ]
     },
     "metadata": {},
     "output_type": "display_data"
    },
    {
     "data": {
      "application/vnd.jupyter.widget-view+json": {
       "model_id": "f52701f78fbf47cf825c70369cfba456",
       "version_major": 2,
       "version_minor": 0
      },
      "text/plain": [
       "Bar desc:   0%|          | 0/15 [00:00<?, ?it/s]"
      ]
     },
     "metadata": {},
     "output_type": "display_data"
    },
    {
     "data": {
      "application/vnd.jupyter.widget-view+json": {
       "model_id": "f42d44069b5945fab0946abf4973c60b",
       "version_major": 2,
       "version_minor": 0
      },
      "text/plain": [
       "Bar desc:   0%|          | 0/15 [00:00<?, ?it/s]"
      ]
     },
     "metadata": {},
     "output_type": "display_data"
    },
    {
     "data": {
      "application/vnd.jupyter.widget-view+json": {
       "model_id": "2eae45fbae8c48e8beceedbc055d763c",
       "version_major": 2,
       "version_minor": 0
      },
      "text/plain": [
       "Bar desc:   0%|          | 0/15 [00:00<?, ?it/s]"
      ]
     },
     "metadata": {},
     "output_type": "display_data"
    },
    {
     "data": {
      "application/vnd.jupyter.widget-view+json": {
       "model_id": "3f4ebf27687e41bda69eb20d6eee890f",
       "version_major": 2,
       "version_minor": 0
      },
      "text/plain": [
       "Bar desc:   0%|          | 0/15 [00:00<?, ?it/s]"
      ]
     },
     "metadata": {},
     "output_type": "display_data"
    },
    {
     "data": {
      "application/vnd.jupyter.widget-view+json": {
       "model_id": "c399f2064bb94115b7b5dd220d96c08d",
       "version_major": 2,
       "version_minor": 0
      },
      "text/plain": [
       "Bar desc:   0%|          | 0/15 [00:00<?, ?it/s]"
      ]
     },
     "metadata": {},
     "output_type": "display_data"
    },
    {
     "data": {
      "application/vnd.jupyter.widget-view+json": {
       "model_id": "b35955361a44495b9b849764f0566eb9",
       "version_major": 2,
       "version_minor": 0
      },
      "text/plain": [
       "Bar desc:   0%|          | 0/15 [00:00<?, ?it/s]"
      ]
     },
     "metadata": {},
     "output_type": "display_data"
    },
    {
     "data": {
      "application/vnd.jupyter.widget-view+json": {
       "model_id": "82842d87d32448c583c5023ccd480c10",
       "version_major": 2,
       "version_minor": 0
      },
      "text/plain": [
       "Bar desc:   0%|          | 0/15 [00:00<?, ?it/s]"
      ]
     },
     "metadata": {},
     "output_type": "display_data"
    },
    {
     "data": {
      "application/vnd.jupyter.widget-view+json": {
       "model_id": "6aa11cad2a4741238ec02654bb93c4ce",
       "version_major": 2,
       "version_minor": 0
      },
      "text/plain": [
       "Bar desc:   0%|          | 0/15 [00:00<?, ?it/s]"
      ]
     },
     "metadata": {},
     "output_type": "display_data"
    },
    {
     "data": {
      "application/vnd.jupyter.widget-view+json": {
       "model_id": "c5eee52ee9504be1863287c38cdef4b0",
       "version_major": 2,
       "version_minor": 0
      },
      "text/plain": [
       "Bar desc:   0%|          | 0/15 [00:00<?, ?it/s]"
      ]
     },
     "metadata": {},
     "output_type": "display_data"
    },
    {
     "data": {
      "application/vnd.jupyter.widget-view+json": {
       "model_id": "f139c998940b4af8967c8fcc8220383c",
       "version_major": 2,
       "version_minor": 0
      },
      "text/plain": [
       "Bar desc:   0%|          | 0/15 [00:00<?, ?it/s]"
      ]
     },
     "metadata": {},
     "output_type": "display_data"
    },
    {
     "data": {
      "application/vnd.jupyter.widget-view+json": {
       "model_id": "a9a5738ee1aa4284a87a4c75c1fc57f3",
       "version_major": 2,
       "version_minor": 0
      },
      "text/plain": [
       "Bar desc:   0%|          | 0/15 [00:00<?, ?it/s]"
      ]
     },
     "metadata": {},
     "output_type": "display_data"
    },
    {
     "data": {
      "application/vnd.jupyter.widget-view+json": {
       "model_id": "88b83b0f1adf4c069c192df0d7a95b74",
       "version_major": 2,
       "version_minor": 0
      },
      "text/plain": [
       "Bar desc:   0%|          | 0/15 [00:00<?, ?it/s]"
      ]
     },
     "metadata": {},
     "output_type": "display_data"
    },
    {
     "data": {
      "application/vnd.jupyter.widget-view+json": {
       "model_id": "702fb6a0e55a495886da93de3279773d",
       "version_major": 2,
       "version_minor": 0
      },
      "text/plain": [
       "Bar desc:   0%|          | 0/15 [00:00<?, ?it/s]"
      ]
     },
     "metadata": {},
     "output_type": "display_data"
    },
    {
     "data": {
      "application/vnd.jupyter.widget-view+json": {
       "model_id": "8fde8334a24d4c4da7daf63424448773",
       "version_major": 2,
       "version_minor": 0
      },
      "text/plain": [
       "Bar desc:   0%|          | 0/15 [00:00<?, ?it/s]"
      ]
     },
     "metadata": {},
     "output_type": "display_data"
    },
    {
     "data": {
      "application/vnd.jupyter.widget-view+json": {
       "model_id": "d1767f5adfa647f7b9946a372147d199",
       "version_major": 2,
       "version_minor": 0
      },
      "text/plain": [
       "Bar desc:   0%|          | 0/15 [00:00<?, ?it/s]"
      ]
     },
     "metadata": {},
     "output_type": "display_data"
    },
    {
     "data": {
      "application/vnd.jupyter.widget-view+json": {
       "model_id": "8213599a68d745398ac7e54bdb2f2c29",
       "version_major": 2,
       "version_minor": 0
      },
      "text/plain": [
       "Bar desc:   0%|          | 0/15 [00:00<?, ?it/s]"
      ]
     },
     "metadata": {},
     "output_type": "display_data"
    },
    {
     "data": {
      "application/vnd.jupyter.widget-view+json": {
       "model_id": "15a4f448c38c4ed98c22b1585068354b",
       "version_major": 2,
       "version_minor": 0
      },
      "text/plain": [
       "Bar desc:   0%|          | 0/15 [00:00<?, ?it/s]"
      ]
     },
     "metadata": {},
     "output_type": "display_data"
    },
    {
     "data": {
      "application/vnd.jupyter.widget-view+json": {
       "model_id": "68a664dbf903450c94093a9a82fa8419",
       "version_major": 2,
       "version_minor": 0
      },
      "text/plain": [
       "Bar desc:   0%|          | 0/15 [00:00<?, ?it/s]"
      ]
     },
     "metadata": {},
     "output_type": "display_data"
    },
    {
     "data": {
      "application/vnd.jupyter.widget-view+json": {
       "model_id": "75f0ee9790224858a18ad7d7ee7eff50",
       "version_major": 2,
       "version_minor": 0
      },
      "text/plain": [
       "Bar desc:   0%|          | 0/15 [00:00<?, ?it/s]"
      ]
     },
     "metadata": {},
     "output_type": "display_data"
    },
    {
     "data": {
      "application/vnd.jupyter.widget-view+json": {
       "model_id": "3dad439723584a41b6bbf95a3abe77f6",
       "version_major": 2,
       "version_minor": 0
      },
      "text/plain": [
       "Bar desc:   0%|          | 0/15 [00:00<?, ?it/s]"
      ]
     },
     "metadata": {},
     "output_type": "display_data"
    },
    {
     "data": {
      "application/vnd.jupyter.widget-view+json": {
       "model_id": "e0d4094632d349d9ab0fb245aafe797c",
       "version_major": 2,
       "version_minor": 0
      },
      "text/plain": [
       "Bar desc:   0%|          | 0/15 [00:00<?, ?it/s]"
      ]
     },
     "metadata": {},
     "output_type": "display_data"
    },
    {
     "data": {
      "application/vnd.jupyter.widget-view+json": {
       "model_id": "a125331e88524225bb4188ee7bf84afc",
       "version_major": 2,
       "version_minor": 0
      },
      "text/plain": [
       "Bar desc:   0%|          | 0/15 [00:00<?, ?it/s]"
      ]
     },
     "metadata": {},
     "output_type": "display_data"
    },
    {
     "data": {
      "application/vnd.jupyter.widget-view+json": {
       "model_id": "991dd5af395b418185947110ddc17d19",
       "version_major": 2,
       "version_minor": 0
      },
      "text/plain": [
       "Bar desc:   0%|          | 0/15 [00:00<?, ?it/s]"
      ]
     },
     "metadata": {},
     "output_type": "display_data"
    },
    {
     "data": {
      "application/vnd.jupyter.widget-view+json": {
       "model_id": "bbaaad3dcc354b4faf00f7d3f0b2a61d",
       "version_major": 2,
       "version_minor": 0
      },
      "text/plain": [
       "Bar desc:   0%|          | 0/15 [00:00<?, ?it/s]"
      ]
     },
     "metadata": {},
     "output_type": "display_data"
    },
    {
     "data": {
      "application/vnd.jupyter.widget-view+json": {
       "model_id": "66302fe2173f4b17ac2242e5d4920254",
       "version_major": 2,
       "version_minor": 0
      },
      "text/plain": [
       "Bar desc:   0%|          | 0/15 [00:00<?, ?it/s]"
      ]
     },
     "metadata": {},
     "output_type": "display_data"
    },
    {
     "data": {
      "application/vnd.jupyter.widget-view+json": {
       "model_id": "f597f1a1b03a4768908d59649cdd4b72",
       "version_major": 2,
       "version_minor": 0
      },
      "text/plain": [
       "Bar desc:   0%|          | 0/15 [00:00<?, ?it/s]"
      ]
     },
     "metadata": {},
     "output_type": "display_data"
    },
    {
     "data": {
      "application/vnd.jupyter.widget-view+json": {
       "model_id": "6fdc03f7ca5549ecaaccf6f50475c4e7",
       "version_major": 2,
       "version_minor": 0
      },
      "text/plain": [
       "Bar desc:   0%|          | 0/15 [00:00<?, ?it/s]"
      ]
     },
     "metadata": {},
     "output_type": "display_data"
    },
    {
     "data": {
      "application/vnd.jupyter.widget-view+json": {
       "model_id": "6153180762e0494da24672fe9fa4d720",
       "version_major": 2,
       "version_minor": 0
      },
      "text/plain": [
       "Bar desc:   0%|          | 0/15 [00:00<?, ?it/s]"
      ]
     },
     "metadata": {},
     "output_type": "display_data"
    },
    {
     "data": {
      "application/vnd.jupyter.widget-view+json": {
       "model_id": "c3e64657043c405bba76602fedcc8dd7",
       "version_major": 2,
       "version_minor": 0
      },
      "text/plain": [
       "Bar desc:   0%|          | 0/15 [00:00<?, ?it/s]"
      ]
     },
     "metadata": {},
     "output_type": "display_data"
    },
    {
     "data": {
      "application/vnd.jupyter.widget-view+json": {
       "model_id": "2ee064f0b4d04ef8bc4c2bfaf093659b",
       "version_major": 2,
       "version_minor": 0
      },
      "text/plain": [
       "Bar desc:   0%|          | 0/15 [00:00<?, ?it/s]"
      ]
     },
     "metadata": {},
     "output_type": "display_data"
    },
    {
     "data": {
      "application/vnd.jupyter.widget-view+json": {
       "model_id": "9b99c75610af4fc8bb6e1072cdcf3a7a",
       "version_major": 2,
       "version_minor": 0
      },
      "text/plain": [
       "Bar desc:   0%|          | 0/15 [00:00<?, ?it/s]"
      ]
     },
     "metadata": {},
     "output_type": "display_data"
    },
    {
     "data": {
      "application/vnd.jupyter.widget-view+json": {
       "model_id": "6dcc203acf9242d08892a3ebf90d24f9",
       "version_major": 2,
       "version_minor": 0
      },
      "text/plain": [
       "Bar desc:   0%|          | 0/15 [00:00<?, ?it/s]"
      ]
     },
     "metadata": {},
     "output_type": "display_data"
    },
    {
     "data": {
      "application/vnd.jupyter.widget-view+json": {
       "model_id": "98750facf5474baf822611714904a0d6",
       "version_major": 2,
       "version_minor": 0
      },
      "text/plain": [
       "Bar desc:   0%|          | 0/15 [00:00<?, ?it/s]"
      ]
     },
     "metadata": {},
     "output_type": "display_data"
    },
    {
     "data": {
      "application/vnd.jupyter.widget-view+json": {
       "model_id": "fc5dde8a97c74695a602f13632a794fb",
       "version_major": 2,
       "version_minor": 0
      },
      "text/plain": [
       "Bar desc:   0%|          | 0/15 [00:00<?, ?it/s]"
      ]
     },
     "metadata": {},
     "output_type": "display_data"
    },
    {
     "data": {
      "application/vnd.jupyter.widget-view+json": {
       "model_id": "2a0d4b066ac14983944430406edef93c",
       "version_major": 2,
       "version_minor": 0
      },
      "text/plain": [
       "Bar desc:   0%|          | 0/15 [00:00<?, ?it/s]"
      ]
     },
     "metadata": {},
     "output_type": "display_data"
    },
    {
     "data": {
      "application/vnd.jupyter.widget-view+json": {
       "model_id": "50c500e9052245168902e952ddd4ea04",
       "version_major": 2,
       "version_minor": 0
      },
      "text/plain": [
       "Bar desc:   0%|          | 0/15 [00:00<?, ?it/s]"
      ]
     },
     "metadata": {},
     "output_type": "display_data"
    },
    {
     "data": {
      "application/vnd.jupyter.widget-view+json": {
       "model_id": "d6598617366946c6a4d432cffce41398",
       "version_major": 2,
       "version_minor": 0
      },
      "text/plain": [
       "Bar desc:   0%|          | 0/15 [00:00<?, ?it/s]"
      ]
     },
     "metadata": {},
     "output_type": "display_data"
    }
   ],
   "source": [
    "params,history,real_grads,approx_grads = train(X, Y, eta=10e-4, epochs=100,batch_size=64,nh=8)"
   ]
  },
  {
   "cell_type": "code",
   "execution_count": 18,
   "id": "b431829e",
   "metadata": {},
   "outputs": [
    {
     "name": "stdout",
     "output_type": "stream",
     "text": [
      "[[-5.30202816e-02  4.55775550e-03  1.99550503e-01  1.52166814e+00\n",
      "   2.76327145e-02  7.70142876e-01 -4.65805766e-01 -1.51817725e+00\n",
      "  -2.29749166e-01 -1.52067416e-01 -1.76383440e-01  2.16276993e-03\n",
      "   1.04178167e+00 -9.69761457e-02 -4.79750512e-01 -5.79996197e-01\n",
      "   1.47959303e+00 -1.76577628e-02 -2.59862621e-01 -6.18755379e-02\n",
      "  -5.26763933e-01 -2.91069569e-03 -2.33473350e-01  9.03120821e-01\n",
      "   6.52138507e-01 -1.21019517e-02 -8.72308479e-02  1.09045656e+00\n",
      "  -1.01550201e+00  8.19333649e-01 -4.50246833e-03  3.57665808e-01\n",
      "   6.86459985e-01  4.88847866e-01  5.31570460e-01  1.79101929e+00\n",
      "  -3.94329739e-01 -1.59500914e-01 -8.16614539e-01  2.05034956e-03\n",
      "  -2.84522373e-03 -2.42599991e-01  3.69085829e-02 -3.00286906e-01\n",
      "  -2.58085182e-02 -1.54425688e-01  2.51771989e-01 -3.26251604e-02\n",
      "   1.46796608e-01  2.16878767e+00  7.63367669e-01  1.02892601e+00\n",
      "   1.40066639e-02  1.39009502e-02  4.33640365e-01  1.69655474e+00\n",
      "   6.53074957e-01  5.04847479e-02 -2.97108796e-02 -1.22618155e+00\n",
      "   1.30611097e+00  1.05795992e-02 -6.89181542e-01 -2.07827310e-01]\n",
      " [ 1.52431433e-01 -7.57847402e-03 -3.31160709e-01 -1.95106515e+00\n",
      "  -4.28847258e-02 -8.95138273e-01  1.00269289e+00  4.04595900e-01\n",
      "   5.02232298e-01  1.81500872e+00  5.20549490e-01 -9.73816157e-03\n",
      "  -1.28802244e+00 -5.89460674e-01  1.07797466e+00  1.61535725e+00\n",
      "  -2.51560212e+00 -7.85225531e-02  8.23974634e-01 -1.19036003e-01\n",
      "   1.41508204e+00  3.97580373e-02  1.11975380e+00 -1.06847219e+00\n",
      "  -1.55385600e+00 -7.41856019e-02  1.29652642e+00 -9.35832042e-01\n",
      "   2.51986912e+00 -1.18243196e+00  4.05539488e-02 -1.71510724e+00\n",
      "  -7.38053973e-01 -7.18483321e-01 -1.15665004e+00 -1.52463476e+00\n",
      "   1.18877743e-01  3.02666424e-01 -1.72517292e-03 -8.08869457e-02\n",
      "   3.98008828e-02  5.28824213e-01 -7.26331038e-01  6.67359352e-01\n",
      "   8.23821723e-02  5.75122779e-01 -1.54941942e-01  7.11550880e-02\n",
      "  -1.54403209e-01 -2.95686746e+00 -1.85214123e+00 -1.20025314e+00\n",
      "  -1.19615123e-01  7.08581225e-01 -4.22246298e-01 -1.88133072e+00\n",
      "  -9.24189406e-01  2.89783911e-01  7.37755782e-02  6.49545711e-01\n",
      "  -2.00988038e+00  6.65060247e-01  1.47679716e+00  7.21724551e-01]\n",
      " [-9.94111511e-02  3.02071852e-03  1.31610205e-01  4.29397019e-01\n",
      "   1.52520114e-02  1.24995397e-01 -5.36887126e-01  1.11358136e+00\n",
      "  -2.72483133e-01 -1.66294130e+00 -3.44166050e-01  7.57539164e-03\n",
      "   2.46240766e-01  6.86436820e-01 -5.98224147e-01 -1.03536105e+00\n",
      "   1.03600909e+00  9.61803159e-02 -5.64112013e-01  1.80911541e-01\n",
      "  -8.88318110e-01 -3.68473416e-02 -8.86280447e-01  1.65351374e-01\n",
      "   9.01717491e-01  8.62875536e-02 -1.20929557e+00 -1.54624518e-01\n",
      "  -1.50436712e+00  3.63098308e-01 -3.60514805e-02  1.35744144e+00\n",
      "   5.15939880e-02  2.29635454e-01  6.25079581e-01 -2.66384532e-01\n",
      "   2.75451997e-01 -1.43165509e-01  8.18339712e-01  7.88365962e-02\n",
      "  -3.69556590e-02 -2.86224222e-01  6.89422455e-01 -3.67072446e-01\n",
      "  -5.65736541e-02 -4.20697091e-01 -9.68300471e-02 -3.85299276e-02\n",
      "   7.60660086e-03  7.88079792e-01  1.08877356e+00  1.71327129e-01\n",
      "   1.05608459e-01 -7.22482176e-01 -1.13940666e-02  1.84775982e-01\n",
      "   2.71114449e-01 -3.40268659e-01 -4.40646986e-02  5.76635834e-01\n",
      "   7.03769418e-01 -6.75639846e-01 -7.87615617e-01 -5.13897241e-01]]\n"
     ]
    }
   ],
   "source": [
    "print(approx_grads[0])\n"
   ]
  },
  {
   "cell_type": "code",
   "execution_count": 19,
   "id": "b07cadb2-6b76-499c-9636-476a14c9d7ad",
   "metadata": {},
   "outputs": [
    {
     "data": {
      "text/plain": [
       "array([[ 0.18665216,  0.33092835, -0.90962289,  0.29185689,  0.33250748,\n",
       "         0.30800449, -0.80190738,  0.46655096, -0.81149415, -0.89775978,\n",
       "         0.35276553,  0.33970572,  0.31006506,  0.52528871,  0.21137854,\n",
       "        -0.7872341 ,  0.30033162,  0.19943722,  0.22818156,  0.1998708 ,\n",
       "        -0.78367864,  0.18454074, -0.91154605,  0.21005723,  0.30763518,\n",
       "         0.19437049,  0.10279695,  0.56927375,  0.22374536,  0.54890676,\n",
       "         0.18340141, -0.91771827,  0.22702697, -0.89362769,  0.28818977,\n",
       "         0.57261551,  0.25917978, -0.7744853 ,  0.48403746,  0.18351089,\n",
       "         0.18507785,  0.19321329,  0.52127939, -0.81037095, -0.77309828,\n",
       "        -0.91467796,  0.10090733,  0.184297  ,  0.33125777,  0.23383158,\n",
       "         0.33592223,  0.27915024,  0.28894632,  0.11825481,  0.27380936,\n",
       "         0.54908029, -0.86919102,  0.14685508,  0.18438808,  0.24314384,\n",
       "         0.32332074,  0.10312653, -0.79545301, -0.91528407],\n",
       "       [-0.57717806, -0.46139342,  0.6651719 ,  0.54922894, -0.46639701,\n",
       "         0.56174255,  0.38406971, -0.74123001,  0.40316228,  0.55431252,\n",
       "        -0.52454913, -0.54780843,  0.56446782, -0.73202098, -0.62557772,\n",
       "         0.44047591,  0.54176815, -0.53157606, -0.56467754, -0.53127185,\n",
       "         0.42425954, -0.56448215,  0.6056353 , -0.42590325, -0.55653682,\n",
       "        -0.53467472, -0.42285679,  0.27029843, -0.60316934, -0.71370928,\n",
       "        -0.5764017 ,  0.69380409, -0.45341625,  0.67814346, -0.51500429,\n",
       "         0.28118406, -0.56527402,  0.37556866, -0.73822329, -0.56201558,\n",
       "        -0.56153665, -0.5995646 , -0.72297645,  0.40014138,  0.37096317,\n",
       "         0.62941358, -0.33732063, -0.58265315, -0.47233612, -0.35627087,\n",
       "        -0.59384696,  0.57725687, -0.53495899, -0.3938205 ,  0.58616307,\n",
       "         0.30748212,  0.67836622, -0.40294316, -0.58091618, -0.56902431,\n",
       "        -0.52714466, -0.38124582,  0.36869872,  0.62458879],\n",
       "       [ 0.3905259 ,  0.13046507,  0.24445099, -0.84108583,  0.13388952,\n",
       "        -0.86974704,  0.41783767,  0.27467905,  0.40833187,  0.34344726,\n",
       "         0.1717836 ,  0.20810271, -0.87453288,  0.20673227,  0.41419918,\n",
       "         0.34675819, -0.84209977,  0.33213884,  0.33649598,  0.33140104,\n",
       "         0.3594191 ,  0.37994141,  0.30591074,  0.21584602,  0.24890165,\n",
       "         0.34030423,  0.32005984, -0.83957218,  0.37942398,  0.16480252,\n",
       "         0.39300029,  0.22391418,  0.22638928,  0.21548423,  0.22681452,\n",
       "        -0.85379957,  0.30609424,  0.39891665,  0.25418583,  0.37850469,\n",
       "         0.3764588 ,  0.40635131,  0.20169706,  0.41022957,  0.40213511,\n",
       "         0.28526437,  0.2364133 ,  0.39835615,  0.14107835,  0.12243929,\n",
       "         0.25792473, -0.85640711,  0.24601267,  0.2755657 , -0.85997243,\n",
       "        -0.85656241,  0.1908248 ,  0.25608807,  0.3965281 ,  0.32588047,\n",
       "         0.20382392,  0.27811929,  0.42675429,  0.29069529]])"
      ]
     },
     "execution_count": 19,
     "metadata": {},
     "output_type": "execute_result"
    }
   ],
   "source": [
    "real_grads[0]['dZ2']"
   ]
  },
  {
   "cell_type": "code",
   "execution_count": 20,
   "id": "edd43804-7658-45d9-92df-c021b1a65d76",
   "metadata": {},
   "outputs": [
    {
     "data": {
      "text/plain": [
       "[<matplotlib.lines.Line2D at 0x12b77d8e3c0>]"
      ]
     },
     "execution_count": 20,
     "metadata": {},
     "output_type": "execute_result"
    },
    {
     "data": {
      "image/png": "[encoded data removed]",
      "text/plain": [
       "<Figure size 640x480 with 2 Axes>"
      ]
     },
     "metadata": {},
     "output_type": "display_data"
    }
   ],
   "source": [
    "fig, (ax1,ax2) = plt.subplots(nrows=2,ncols=1)\n",
    "ax1.plot(np.arange(len(history['accuracy'])),history['accuracy'])\n",
    "ax2.plot(np.arange(len(history['loss'])),history['loss'])"
   ]
  },
  {
   "cell_type": "markdown",
   "id": "b1875a8e-4198-49fc-8e20-1850783bd888",
   "metadata": {},
   "source": [
    "## Train on mnist handwritten digits"
   ]
  },
  {
   "cell_type": "markdown",
   "id": "d517036c-dec8-49aa-88dd-156432b34f95",
   "metadata": {},
   "source": [
    "- Dataset link : [https://www.kaggle.com/datasets/oddrationale/mnist-in-csv](link)."
   ]
  },
  {
   "cell_type": "markdown",
   "id": "637523a6-d091-44b6-b254-02de52bcd6d3",
   "metadata": {},
   "source": [
    "### Load the dataset"
   ]
  },
  {
   "cell_type": "code",
   "execution_count": 21,
   "id": "73a97176-bd8c-4888-b995-3fab19f1ca51",
   "metadata": {},
   "outputs": [],
   "source": [
    "df = pd.read_csv(\"./data/mnist_train.csv\")"
   ]
  },
  {
   "cell_type": "code",
   "execution_count": 22,
   "id": "19e74448-7a3e-4429-ac3d-afeb396ff921",
   "metadata": {},
   "outputs": [],
   "source": [
    "Y = df[\"label\"].values\n",
    "X = df[df.columns[1:]].values"
   ]
  },
  {
   "cell_type": "markdown",
   "id": "ed3947a3-fc62-4888-8f9e-33229e87b178",
   "metadata": {},
   "source": [
    "### Plot the labels distribution"
   ]
  },
  {
   "cell_type": "code",
   "execution_count": 23,
   "id": "adcdeae6-b26e-4143-a0ae-7b69e4e00399",
   "metadata": {},
   "outputs": [
    {
     "data": {
      "text/plain": [
       "<Axes: ylabel='count'>"
      ]
     },
     "execution_count": 23,
     "metadata": {},
     "output_type": "execute_result"
    },
    {
     "data": {
      "image/png": "[encoded data removed]",
      "text/plain": [
       "<Figure size 640x480 with 1 Axes>"
      ]
     },
     "metadata": {},
     "output_type": "display_data"
    }
   ],
   "source": [
    "sns.countplot(x=Y)"
   ]
  },
  {
   "cell_type": "markdown",
   "id": "a640b202-2cf2-42ec-89aa-a34244e4ee56",
   "metadata": {},
   "source": [
    "### Show some images"
   ]
  },
  {
   "cell_type": "code",
   "execution_count": 24,
   "id": "d45a7210-ddf8-47d3-8f54-47ef5730d7ff",
   "metadata": {},
   "outputs": [],
   "source": [
    "def plot_random_images(X,Y, nrows=3, ncols=3, real_lables = None):\n",
    "\n",
    "    fig, axes = plt.subplots(nrows=nrows, ncols=ncols)\n",
    "    n = nrows * ncols\n",
    "\n",
    "    idx = np.arange(X.shape[0])\n",
    "    np.random.shuffle(idx)\n",
    "    idx = idx[:n]\n",
    "\n",
    "    X = X[idx]\n",
    "    Y = Y[idx]\n",
    "\n",
    "    if real_lables is not None:\n",
    "        real_lables = real_lables[idx]\n",
    "    \n",
    "    i = 0\n",
    "    for row in axes:\n",
    "        for cell in row:\n",
    "            img = X[i].reshape(28,28)\n",
    "            cell.imshow(img,cmap=\"gray\")\n",
    "            if real_lables is None:\n",
    "                cell.set_title(f\"Label = {Y[i]}\")\n",
    "            else:\n",
    "                cell.set_title(f\"Label = {Y[i]} \\n Real Label = {real_lables[i]}\")\n",
    "            i += 1"
   ]
  },
  {
   "cell_type": "code",
   "execution_count": 25,
   "id": "ebc316b0-77f1-49de-bb10-ff71b5bbf8a4",
   "metadata": {},
   "outputs": [
    {
     "data": {
      "image/png": "[encoded data removed]",
      "text/plain": [
       "<Figure size 640x480 with 9 Axes>"
      ]
     },
     "metadata": {},
     "output_type": "display_data"
    }
   ],
   "source": [
    "plot_random_images(X,Y)"
   ]
  },
  {
   "cell_type": "markdown",
   "id": "8595c40d-6f76-478b-ba6f-e4d262c2d2ba",
   "metadata": {},
   "source": [
    "### Normalization"
   ]
  },
  {
   "cell_type": "code",
   "execution_count": 26,
   "id": "39141bfa-14e0-4ca1-99e5-5992acd37273",
   "metadata": {},
   "outputs": [],
   "source": [
    "X = X / 255.0"
   ]
  },
  {
   "cell_type": "markdown",
   "id": "c3a3418e-eca5-4837-b03f-6bd331e819b2",
   "metadata": {},
   "source": [
    "### Data splitting"
   ]
  },
  {
   "cell_type": "code",
   "execution_count": 27,
   "id": "721ba5f4-8795-4a37-a109-81b6ba2472ca",
   "metadata": {},
   "outputs": [],
   "source": [
    "X_train,X_test,y_train,y_test = train_test_split(X, Y, test_size=0.2,stratify=Y)"
   ]
  },
  {
   "cell_type": "markdown",
   "id": "1126d537-f5c6-4793-bf4a-627b0bac6a60",
   "metadata": {},
   "source": [
    "### start the training"
   ]
  },
  {
   "cell_type": "code",
   "execution_count": 31,
   "id": "16f789fb-8181-474c-89e1-2b0b111b59f4",
   "metadata": {},
   "outputs": [
    {
     "data": {
      "application/vnd.jupyter.widget-view+json": {
       "model_id": "6205d51916c341f6b3e1e7141b9f4f36",
       "version_major": 2,
       "version_minor": 0
      },
      "text/plain": [
       "Bar desc:   0%|          | 0/375 [00:00<?, ?it/s]"
      ]
     },
     "metadata": {},
     "output_type": "display_data"
    },
    {
     "data": {
      "application/vnd.jupyter.widget-view+json": {
       "model_id": "f316269e18cb412b8fc251175012d5ea",
       "version_major": 2,
       "version_minor": 0
      },
      "text/plain": [
       "Bar desc:   0%|          | 0/375 [00:00<?, ?it/s]"
      ]
     },
     "metadata": {},
     "output_type": "display_data"
    },
    {
     "data": {
      "application/vnd.jupyter.widget-view+json": {
       "model_id": "bc7bdcb8c2a5483a8d597f82873d289e",
       "version_major": 2,
       "version_minor": 0
      },
      "text/plain": [
       "Bar desc:   0%|          | 0/375 [00:00<?, ?it/s]"
      ]
     },
     "metadata": {},
     "output_type": "display_data"
    },
    {
     "data": {
      "application/vnd.jupyter.widget-view+json": {
       "model_id": "c71b4044364d481a90aab040fcf63057",
       "version_major": 2,
       "version_minor": 0
      },
      "text/plain": [
       "Bar desc:   0%|          | 0/375 [00:00<?, ?it/s]"
      ]
     },
     "metadata": {},
     "output_type": "display_data"
    },
    {
     "data": {
      "application/vnd.jupyter.widget-view+json": {
       "model_id": "b1ab8e344bb14bd28b5a08d52c0c4d02",
       "version_major": 2,
       "version_minor": 0
      },
      "text/plain": [
       "Bar desc:   0%|          | 0/375 [00:00<?, ?it/s]"
      ]
     },
     "metadata": {},
     "output_type": "display_data"
    },
    {
     "data": {
      "application/vnd.jupyter.widget-view+json": {
       "model_id": "b365cc3574f44e08ab2e25f7f6a908b0",
       "version_major": 2,
       "version_minor": 0
      },
      "text/plain": [
       "Bar desc:   0%|          | 0/375 [00:00<?, ?it/s]"
      ]
     },
     "metadata": {},
     "output_type": "display_data"
    },
    {
     "data": {
      "application/vnd.jupyter.widget-view+json": {
       "model_id": "957a3c65a13d46d299627b6585fc3267",
       "version_major": 2,
       "version_minor": 0
      },
      "text/plain": [
       "Bar desc:   0%|          | 0/375 [00:00<?, ?it/s]"
      ]
     },
     "metadata": {},
     "output_type": "display_data"
    },
    {
     "data": {
      "application/vnd.jupyter.widget-view+json": {
       "model_id": "5bf0357a04f344848215dc6f13e1954b",
       "version_major": 2,
       "version_minor": 0
      },
      "text/plain": [
       "Bar desc:   0%|          | 0/375 [00:00<?, ?it/s]"
      ]
     },
     "metadata": {},
     "output_type": "display_data"
    },
    {
     "data": {
      "application/vnd.jupyter.widget-view+json": {
       "model_id": "4b4155f7dd504431beeaf17679244054",
       "version_major": 2,
       "version_minor": 0
      },
      "text/plain": [
       "Bar desc:   0%|          | 0/375 [00:00<?, ?it/s]"
      ]
     },
     "metadata": {},
     "output_type": "display_data"
    },
    {
     "data": {
      "application/vnd.jupyter.widget-view+json": {
       "model_id": "44f5ae1bc68d4e11aac9272d802a35af",
       "version_major": 2,
       "version_minor": 0
      },
      "text/plain": [
       "Bar desc:   0%|          | 0/375 [00:00<?, ?it/s]"
      ]
     },
     "metadata": {},
     "output_type": "display_data"
    },
    {
     "data": {
      "application/vnd.jupyter.widget-view+json": {
       "model_id": "5f747e4ffa4648dc8e799ad89a09c34e",
       "version_major": 2,
       "version_minor": 0
      },
      "text/plain": [
       "Bar desc:   0%|          | 0/375 [00:00<?, ?it/s]"
      ]
     },
     "metadata": {},
     "output_type": "display_data"
    },
    {
     "data": {
      "application/vnd.jupyter.widget-view+json": {
       "model_id": "51cb7d17ebbe4f9da798fca788c0b57d",
       "version_major": 2,
       "version_minor": 0
      },
      "text/plain": [
       "Bar desc:   0%|          | 0/375 [00:00<?, ?it/s]"
      ]
     },
     "metadata": {},
     "output_type": "display_data"
    },
    {
     "data": {
      "application/vnd.jupyter.widget-view+json": {
       "model_id": "5a92842a6f0b4cc5ba905558ce5b539d",
       "version_major": 2,
       "version_minor": 0
      },
      "text/plain": [
       "Bar desc:   0%|          | 0/375 [00:00<?, ?it/s]"
      ]
     },
     "metadata": {},
     "output_type": "display_data"
    },
    {
     "data": {
      "application/vnd.jupyter.widget-view+json": {
       "model_id": "c34aab20434a4ae4bf655e7ded8f618f",
       "version_major": 2,
       "version_minor": 0
      },
      "text/plain": [
       "Bar desc:   0%|          | 0/375 [00:00<?, ?it/s]"
      ]
     },
     "metadata": {},
     "output_type": "display_data"
    },
    {
     "data": {
      "application/vnd.jupyter.widget-view+json": {
       "model_id": "c332faf5b95d4782a8770789281731db",
       "version_major": 2,
       "version_minor": 0
      },
      "text/plain": [
       "Bar desc:   0%|          | 0/375 [00:00<?, ?it/s]"
      ]
     },
     "metadata": {},
     "output_type": "display_data"
    },
    {
     "data": {
      "application/vnd.jupyter.widget-view+json": {
       "model_id": "15da05ee091a4d848044bdb96938afe5",
       "version_major": 2,
       "version_minor": 0
      },
      "text/plain": [
       "Bar desc:   0%|          | 0/375 [00:00<?, ?it/s]"
      ]
     },
     "metadata": {},
     "output_type": "display_data"
    },
    {
     "data": {
      "application/vnd.jupyter.widget-view+json": {
       "model_id": "d76d46f8e8b64b979c1bf751bf6f1abf",
       "version_major": 2,
       "version_minor": 0
      },
      "text/plain": [
       "Bar desc:   0%|          | 0/375 [00:00<?, ?it/s]"
      ]
     },
     "metadata": {},
     "output_type": "display_data"
    },
    {
     "data": {
      "application/vnd.jupyter.widget-view+json": {
       "model_id": "ca5981ca98dc4117b8da2fb9f53b80d7",
       "version_major": 2,
       "version_minor": 0
      },
      "text/plain": [
       "Bar desc:   0%|          | 0/375 [00:00<?, ?it/s]"
      ]
     },
     "metadata": {},
     "output_type": "display_data"
    },
    {
     "data": {
      "application/vnd.jupyter.widget-view+json": {
       "model_id": "0788e799d36842a99e2924a121724efe",
       "version_major": 2,
       "version_minor": 0
      },
      "text/plain": [
       "Bar desc:   0%|          | 0/375 [00:00<?, ?it/s]"
      ]
     },
     "metadata": {},
     "output_type": "display_data"
    },
    {
     "data": {
      "application/vnd.jupyter.widget-view+json": {
       "model_id": "ae3160c74f9f483d88ec64a1ddda0f71",
       "version_major": 2,
       "version_minor": 0
      },
      "text/plain": [
       "Bar desc:   0%|          | 0/375 [00:00<?, ?it/s]"
      ]
     },
     "metadata": {},
     "output_type": "display_data"
    },
    {
     "data": {
      "application/vnd.jupyter.widget-view+json": {
       "model_id": "a61aa599ae5e4ed3ac907fe0ae7b041a",
       "version_major": 2,
       "version_minor": 0
      },
      "text/plain": [
       "Bar desc:   0%|          | 0/375 [00:00<?, ?it/s]"
      ]
     },
     "metadata": {},
     "output_type": "display_data"
    },
    {
     "data": {
      "application/vnd.jupyter.widget-view+json": {
       "model_id": "0250a9f62063444b98276976cdfd7db7",
       "version_major": 2,
       "version_minor": 0
      },
      "text/plain": [
       "Bar desc:   0%|          | 0/375 [00:00<?, ?it/s]"
      ]
     },
     "metadata": {},
     "output_type": "display_data"
    },
    {
     "data": {
      "application/vnd.jupyter.widget-view+json": {
       "model_id": "fce50d0623214af1a24aa1c0c5bd1af8",
       "version_major": 2,
       "version_minor": 0
      },
      "text/plain": [
       "Bar desc:   0%|          | 0/375 [00:00<?, ?it/s]"
      ]
     },
     "metadata": {},
     "output_type": "display_data"
    },
    {
     "data": {
      "application/vnd.jupyter.widget-view+json": {
       "model_id": "ccf32cf3645844909d23a748d05e0d30",
       "version_major": 2,
       "version_minor": 0
      },
      "text/plain": [
       "Bar desc:   0%|          | 0/375 [00:00<?, ?it/s]"
      ]
     },
     "metadata": {},
     "output_type": "display_data"
    },
    {
     "data": {
      "application/vnd.jupyter.widget-view+json": {
       "model_id": "c84e57185efb4f01b9da786caf53a5a0",
       "version_major": 2,
       "version_minor": 0
      },
      "text/plain": [
       "Bar desc:   0%|          | 0/375 [00:00<?, ?it/s]"
      ]
     },
     "metadata": {},
     "output_type": "display_data"
    },
    {
     "data": {
      "application/vnd.jupyter.widget-view+json": {
       "model_id": "2a9806ce6f9c475682e9f55cdcc07097",
       "version_major": 2,
       "version_minor": 0
      },
      "text/plain": [
       "Bar desc:   0%|          | 0/375 [00:00<?, ?it/s]"
      ]
     },
     "metadata": {},
     "output_type": "display_data"
    },
    {
     "data": {
      "application/vnd.jupyter.widget-view+json": {
       "model_id": "8bff7e10795c409e95cb53e5ac45b493",
       "version_major": 2,
       "version_minor": 0
      },
      "text/plain": [
       "Bar desc:   0%|          | 0/375 [00:00<?, ?it/s]"
      ]
     },
     "metadata": {},
     "output_type": "display_data"
    },
    {
     "data": {
      "application/vnd.jupyter.widget-view+json": {
       "model_id": "51245f419249448388930372f224365a",
       "version_major": 2,
       "version_minor": 0
      },
      "text/plain": [
       "Bar desc:   0%|          | 0/375 [00:00<?, ?it/s]"
      ]
     },
     "metadata": {},
     "output_type": "display_data"
    },
    {
     "data": {
      "application/vnd.jupyter.widget-view+json": {
       "model_id": "0cd4707fa0d849af8e2b80798cb44228",
       "version_major": 2,
       "version_minor": 0
      },
      "text/plain": [
       "Bar desc:   0%|          | 0/375 [00:00<?, ?it/s]"
      ]
     },
     "metadata": {},
     "output_type": "display_data"
    },
    {
     "data": {
      "application/vnd.jupyter.widget-view+json": {
       "model_id": "b12f1a0017df4e60ba5756284a329a1d",
       "version_major": 2,
       "version_minor": 0
      },
      "text/plain": [
       "Bar desc:   0%|          | 0/375 [00:00<?, ?it/s]"
      ]
     },
     "metadata": {},
     "output_type": "display_data"
    }
   ],
   "source": [
    "params,history , *rest = train(\n",
    "    X_train, \n",
    "    y_train, \n",
    "    test_set=(X_test,y_test),\n",
    "    eta=0.01, \n",
    "    epochs=30,\n",
    "    batch_size=128,\n",
    "    nh=64\n",
    ")"
   ]
  },
  {
   "cell_type": "markdown",
   "id": "2694413b-3012-40e5-9f02-ee53a4ab4ede",
   "metadata": {},
   "source": [
    "### Learning graph"
   ]
  },
  {
   "cell_type": "code",
   "execution_count": 32,
   "id": "d0a7d904-6239-48ce-9418-e66de45c7f12",
   "metadata": {},
   "outputs": [
    {
     "data": {
      "image/png": "[encoded data removed]",
      "text/plain": [
       "<Figure size 1000x300 with 2 Axes>"
      ]
     },
     "metadata": {},
     "output_type": "display_data"
    }
   ],
   "source": [
    "fig, (ax1,ax2) = plt.subplots(nrows=1,ncols=2)\n",
    "\n",
    "fig.set_size_inches(10,3)\n",
    "\n",
    "ax1.plot(np.arange(len(history['accuracy'])),history['accuracy'], label=\"train\")\n",
    "ax2.plot(np.arange(len(history['loss'])),history['loss'],label=\"train\")\n",
    "\n",
    "ax1.set_title(\"Train & Test set accuracy over time\")\n",
    "\n",
    "ax1.plot(np.arange(len(history['test accuracy'])),history['test accuracy'], label='test')\n",
    "ax2.plot(np.arange(len(history['test loss'])),history['test loss'], label=\"test\")\n",
    "\n",
    "ax2.set_title(\"Test & test set loss over time\")\n",
    "\n",
    "ax1.legend()\n",
    "ax2.legend()\n",
    "\n",
    "plt.tight_layout()"
   ]
  },
  {
   "cell_type": "markdown",
   "id": "850bfe1e-b257-42de-9382-32368bfff795",
   "metadata": {},
   "source": [
    "### Evaluation"
   ]
  },
  {
   "cell_type": "code",
   "execution_count": 33,
   "id": "6fbc5c8b-a08a-4ee5-ab4e-90ad25b298d8",
   "metadata": {},
   "outputs": [],
   "source": [
    "y_train_hat = predict(params, X_train)\n",
    "y_test_hat = predict(params, X_test)"
   ]
  },
  {
   "cell_type": "code",
   "execution_count": 34,
   "id": "1664f470-9bbc-45b0-8d1c-f0fcd0ed6c18",
   "metadata": {},
   "outputs": [],
   "source": [
    "def get_matrics(y, y_hat):\n",
    "    \n",
    "    accuracy = accuracy_score(y, y_hat)\n",
    "    f1 = f1_score(y, y_hat, average=\"macro\")\n",
    "    precision = precision_score(y, y_hat, average=\"macro\")\n",
    "    recall = recall_score(y, y_hat, average=\"macro\")\n",
    "\n",
    "    return pd.Series({\n",
    "        \"accuracy\":accuracy,\n",
    "        \"f1_score\":f1,\n",
    "        \"precision\":precision,\n",
    "        \"recall\":recall\n",
    "    })"
   ]
  },
  {
   "cell_type": "code",
   "execution_count": 35,
   "id": "4ec04e63-48bc-40be-9f26-241119431647",
   "metadata": {},
   "outputs": [],
   "source": [
    "train_metrics = get_matrics(y_train, y_train_hat)\n",
    "test_metrics = get_matrics(y_test, y_test_hat)\n",
    "metrics = pd.DataFrame(data={\n",
    "    \"train\": train_metrics,\n",
    "    \"test\":test_metrics\n",
    "})"
   ]
  },
  {
   "cell_type": "code",
   "execution_count": 36,
   "id": "a22377b6-f119-4b41-9489-5db4b95496c9",
   "metadata": {},
   "outputs": [
    {
     "data": {
      "text/html": [
       "<div>\n",
       "<style scoped>\n",
       "    .dataframe tbody tr th:only-of-type {\n",
       "        vertical-align: middle;\n",
       "    }\n",
       "\n",
       "    .dataframe tbody tr th {\n",
       "        vertical-align: top;\n",
       "    }\n",
       "\n",
       "    .dataframe thead th {\n",
       "        text-align: right;\n",
       "    }\n",
       "</style>\n",
       "<table border=\"1\" class=\"dataframe\">\n",
       "  <thead>\n",
       "    <tr style=\"text-align: right;\">\n",
       "      <th></th>\n",
       "      <th>train</th>\n",
       "      <th>test</th>\n",
       "    </tr>\n",
       "  </thead>\n",
       "  <tbody>\n",
       "    <tr>\n",
       "      <th>accuracy</th>\n",
       "      <td>0.999521</td>\n",
       "      <td>0.960833</td>\n",
       "    </tr>\n",
       "    <tr>\n",
       "      <th>f1_score</th>\n",
       "      <td>0.999514</td>\n",
       "      <td>0.960377</td>\n",
       "    </tr>\n",
       "    <tr>\n",
       "      <th>precision</th>\n",
       "      <td>0.999519</td>\n",
       "      <td>0.960562</td>\n",
       "    </tr>\n",
       "    <tr>\n",
       "      <th>recall</th>\n",
       "      <td>0.999509</td>\n",
       "      <td>0.960252</td>\n",
       "    </tr>\n",
       "  </tbody>\n",
       "</table>\n",
       "</div>"
      ],
      "text/plain": [
       "              train      test\n",
       "accuracy   0.999521  0.960833\n",
       "f1_score   0.999514  0.960377\n",
       "precision  0.999519  0.960562\n",
       "recall     0.999509  0.960252"
      ]
     },
     "execution_count": 36,
     "metadata": {},
     "output_type": "execute_result"
    }
   ],
   "source": [
    "metrics"
   ]
  },
  {
   "cell_type": "code",
   "execution_count": 37,
   "id": "7661ebb0-a55a-48e5-acd9-9eeb3e22c46e",
   "metadata": {},
   "outputs": [],
   "source": [
    "def plot_confusion_matrix(y, y_hat):\n",
    "    cm = confusion_matrix(y, y_hat)\n",
    "    ax = sns.heatmap(data=cm, annot=True,cmap='Blues', fmt=',d')\n",
    "    ax.get_figure().set_size_inches(10,10)\n",
    "    return ax"
   ]
  },
  {
   "cell_type": "code",
   "execution_count": 38,
   "id": "c89801fc-4b04-4974-a923-88e9f17bb8a1",
   "metadata": {},
   "outputs": [
    {
     "data": {
      "text/plain": [
       "Text(0.5, 1.0, 'Train set confusion matrix')"
      ]
     },
     "execution_count": 38,
     "metadata": {},
     "output_type": "execute_result"
    },
    {
     "data": {
      "image/png": "[encoded data removed]",
      "text/plain": [
       "<Figure size 1000x1000 with 2 Axes>"
      ]
     },
     "metadata": {},
     "output_type": "display_data"
    }
   ],
   "source": [
    "ax = plot_confusion_matrix(y_train, y_train_hat)\n",
    "ax.set_title(\"Train set confusion matrix\")"
   ]
  },
  {
   "cell_type": "code",
   "execution_count": 39,
   "id": "a621f0b7-010a-4c3b-838d-4b466bb7d8d5",
   "metadata": {},
   "outputs": [
    {
     "data": {
      "text/plain": [
       "Text(0.5, 1.0, 'Test set confusion matrix')"
      ]
     },
     "execution_count": 39,
     "metadata": {},
     "output_type": "execute_result"
    },
    {
     "data": {
      "image/png": "[encoded data removed]",
      "text/plain": [
       "<Figure size 1000x1000 with 2 Axes>"
      ]
     },
     "metadata": {},
     "output_type": "display_data"
    }
   ],
   "source": [
    "ax = plot_confusion_matrix(y_test, y_test_hat)\n",
    "ax.set_title(\"Test set confusion matrix\")"
   ]
  },
  {
   "cell_type": "markdown",
   "id": "d7b5aece-0df2-42de-9c4b-176704a6b691",
   "metadata": {},
   "source": [
    "### Error analysis\n",
    "- show miss-classified data points"
   ]
  },
  {
   "cell_type": "code",
   "execution_count": 40,
   "id": "bdb8df5d-412e-4559-a32d-fd83453ae3a9",
   "metadata": {},
   "outputs": [],
   "source": [
    "X_test_ = X_test[y_test_hat != y_test]\n",
    "y_test_ = y_test[y_test_hat != y_test]\n",
    "y_test_hat_ = y_test_hat[y_test_hat != y_test]"
   ]
  },
  {
   "cell_type": "code",
   "execution_count": 41,
   "id": "5dcf2b56-097e-47e8-bb40-de8c2084efe4",
   "metadata": {},
   "outputs": [
    {
     "data": {
      "image/png": "[encoded data removed]",
      "text/plain": [
       "<Figure size 640x480 with 9 Axes>"
      ]
     },
     "metadata": {},
     "output_type": "display_data"
    }
   ],
   "source": [
    "plot_random_images(X_test_,y_test_hat_,real_lables=y_test_)\n",
    "plt.tight_layout(pad=0.25)"
   ]
  }
 ],
 "metadata": {
  "kernelspec": {
   "display_name": "base",
   "language": "python",
   "name": "python3"
  },
  "language_info": {
   "codemirror_mode": {
    "name": "ipython",
    "version": 3
   },
   "file_extension": ".py",
   "mimetype": "text/x-python",
   "name": "python",
   "nbconvert_exporter": "python",
   "pygments_lexer": "ipython3",
   "version": "3.12.7"
  }
 },
 "nbformat": 4,
 "nbformat_minor": 5
}
